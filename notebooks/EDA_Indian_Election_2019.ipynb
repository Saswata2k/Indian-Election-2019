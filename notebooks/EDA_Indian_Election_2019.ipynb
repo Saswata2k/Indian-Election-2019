{
 "cells": [
  {
   "cell_type": "code",
   "execution_count": 1,
   "metadata": {
    "collapsed": false
   },
   "outputs": [
    {
     "name": "stderr",
     "output_type": "stream",
     "text": [
      "C:\\Program Files\\Anaconda3\\lib\\site-packages\\sklearn\\ensemble\\weight_boosting.py:29: DeprecationWarning: numpy.core.umath_tests is an internal NumPy module and should not be imported. It will be removed in a future NumPy release.\n",
      "  from numpy.core.umath_tests import inner1d\n",
      "C:\\Program Files\\Anaconda3\\lib\\site-packages\\gensim\\utils.py:1197: UserWarning: detected Windows; aliasing chunkize to chunkize_serial\n",
      "  warnings.warn(\"detected Windows; aliasing chunkize to chunkize_serial\")\n",
      "Using TensorFlow backend.\n"
     ]
    }
   ],
   "source": [
    "from glove import Corpus, Glove\n",
    "import pandas as pd\n",
    "from nltk.corpus import stopwords\n",
    "from nltk.tokenize import word_tokenize \n",
    "import datetime,time\n",
    "from flashtext.keyword import KeywordProcessor\n",
    "from nltk.stem import WordNetLemmatizer\n",
    "from string import punctuation\n",
    "import re\n",
    "import pandas as pd\n",
    "import numpy as np\n",
    "import string\n",
    "import multiprocessing\n",
    "from nltk.corpus import stopwords\n",
    "from flashtext.keyword import KeywordProcessor\n",
    "from sklearn.model_selection import train_test_split\n",
    "from sklearn import metrics\n",
    "\n",
    "# libraries for dataset preparation, feature engineering, model training \n",
    "from sklearn import model_selection, preprocessing, linear_model, naive_bayes, metrics, svm\n",
    "from sklearn.feature_extraction.text import TfidfVectorizer, CountVectorizer\n",
    "from sklearn import decomposition, ensemble\n",
    "#from utils.language_models import WordVectorEmbedding\n",
    "from gensim.test.utils import datapath, get_tmpfile\n",
    "#import pandas, xgboost, numpy, textblob, string\n",
    "from keras.preprocessing import text, sequence\n",
    "from keras import layers, models, optimizers\n",
    "# Keras\n",
    "from keras.preprocessing.text import Tokenizer\n",
    "from keras.preprocessing.sequence import pad_sequences\n",
    "from keras.models import Sequential\n",
    "from keras.layers import Dense, Flatten, LSTM, Conv1D, MaxPooling1D, Dropout, Activation\n",
    "from keras.layers.embeddings import Embedding\n",
    "from keras.utils import to_categorical\n",
    "from sklearn import preprocessing\n",
    "from pymongo import MongoClient\n",
    "\n",
    "# Import Translator module from googletrans package\n",
    "from googletrans import Translator  \n",
    "\n",
    "#Import seaborn for data exploration\n",
    "import seaborn as sns\n",
    "%matplotlib inline\n",
    "from matplotlib import pyplot as plt\n",
    "sns.set(style=\"darkgrid\")"
   ]
  },
  {
   "cell_type": "code",
   "execution_count": 2,
   "metadata": {
    "collapsed": true
   },
   "outputs": [],
   "source": [
    "MONGO_HOST = 'localhost'\n",
    "MONGO_PORT = 27017\n",
    "DATABASE_NAME='Portfolio'"
   ]
  },
  {
   "cell_type": "code",
   "execution_count": 3,
   "metadata": {
    "collapsed": false
   },
   "outputs": [],
   "source": [
    "client_prod = MongoClient(host=MONGO_HOST,port=MONGO_PORT,unicode_decode_error_handler='ignore')\n",
    "db_prod = client_prod[DATABASE_NAME]\n",
    "collection_congress = \"Election_Congress\"\n",
    "collection_bjp = \"Election_BJP\"\n",
    "def getCollection(collection_name):\n",
    "    return db_prod[collection_name]"
   ]
  },
  {
   "cell_type": "code",
   "execution_count": 4,
   "metadata": {
    "collapsed": true
   },
   "outputs": [],
   "source": [
    "col_congress=getCollection(collection_congress)\n",
    "col_bjp=getCollection(collection_bjp)"
   ]
  },
  {
   "cell_type": "code",
   "execution_count": 5,
   "metadata": {
    "collapsed": false
   },
   "outputs": [
    {
     "name": "stdout",
     "output_type": "stream",
     "text": [
      "Total number of tweets for Congress loaded from Mongo : 16802\n",
      "Total number of tweets for BJP loaded from Mongo : 18626\n"
     ]
    }
   ],
   "source": [
    "df_congress=pd.DataFrame(list(getCollection(collection_congress).find({})))\n",
    "df_bjp=pd.DataFrame(list(getCollection(collection_bjp).find({})))\n",
    "print('Total number of tweets for Congress loaded from Mongo : {}'.format(df_congress.shape[0]))\n",
    "print('Total number of tweets for BJP loaded from Mongo : {}'.format(df_bjp.shape[0]))"
   ]
  },
  {
   "cell_type": "markdown",
   "metadata": {},
   "source": [
    "### As the first step of basic EDA, we will be removing all null,empty tweets "
   ]
  },
  {
   "cell_type": "code",
   "execution_count": 6,
   "metadata": {
    "collapsed": false
   },
   "outputs": [
    {
     "name": "stdout",
     "output_type": "stream",
     "text": [
      "Total number of Congress tweets after removing empty ones 10490\n",
      "Total number of BJP tweets after removing empty ones 10669\n"
     ]
    }
   ],
   "source": [
    "df_congress_clean_tweets=df_congress[df_congress['Tweet_cleaned']!='']\n",
    "df_congress_clean_tweets=df_congress_clean_tweets[~df_congress_clean_tweets['Tweet_cleaned'].isnull()]\n",
    "df_bjp_clean_tweets=df_bjp[df_bjp['Tweet_cleaned']!='']\n",
    "df_bjp_clean_tweets=df_bjp_clean_tweets[~df_bjp_clean_tweets['Tweet_cleaned'].isnull()]\n",
    "print('Total number of Congress tweets after removing empty ones {}'.format(df_congress_clean_tweets.shape[0]))\n",
    "print('Total number of BJP tweets after removing empty ones {}'.format(df_bjp_clean_tweets.shape[0]))"
   ]
  },
  {
   "cell_type": "code",
   "execution_count": 7,
   "metadata": {
    "collapsed": false
   },
   "outputs": [
    {
     "name": "stdout",
     "output_type": "stream",
     "text": [
      "Total number of Congress tweets after removing duplicates 5150\n",
      "Total number of BJP tweets after removing duplicates 4620\n"
     ]
    }
   ],
   "source": [
    "df_congress_clean_tweets.drop_duplicates('Tweet_cleaned',inplace=True)\n",
    "df_bjp_clean_tweets.drop_duplicates('Tweet_cleaned',inplace=True)\n",
    "print('Total number of Congress tweets after removing duplicates {}'.format(df_congress_clean_tweets.shape[0]))\n",
    "print('Total number of BJP tweets after removing duplicates {}'.format(df_bjp_clean_tweets.shape[0]))"
   ]
  },
  {
   "cell_type": "markdown",
   "metadata": {},
   "source": [
    "## As we can see, dropping the duplicates almost reduced the count by half. We need to further explore the data and see if there are any other discrepancies still present.. "
   ]
  },
  {
   "cell_type": "code",
   "execution_count": 8,
   "metadata": {
    "collapsed": true
   },
   "outputs": [],
   "source": [
    "df_congress_clean_tweets['party']='congress'\n",
    "df_bjp_clean_tweets['party']='bjp'"
   ]
  },
  {
   "cell_type": "code",
   "execution_count": 9,
   "metadata": {
    "collapsed": false
   },
   "outputs": [
    {
     "data": {
      "text/html": [
       "<div>\n",
       "<style scoped>\n",
       "    .dataframe tbody tr th:only-of-type {\n",
       "        vertical-align: middle;\n",
       "    }\n",
       "\n",
       "    .dataframe tbody tr th {\n",
       "        vertical-align: top;\n",
       "    }\n",
       "\n",
       "    .dataframe thead th {\n",
       "        text-align: right;\n",
       "    }\n",
       "</style>\n",
       "<table border=\"1\" class=\"dataframe\">\n",
       "  <thead>\n",
       "    <tr style=\"text-align: right;\">\n",
       "      <th></th>\n",
       "      <th>Created At</th>\n",
       "      <th>Likes</th>\n",
       "      <th>Location</th>\n",
       "      <th>Name</th>\n",
       "      <th>Retweet</th>\n",
       "      <th>Tweet</th>\n",
       "      <th>Tweet_cleaned</th>\n",
       "      <th>_id</th>\n",
       "      <th>id</th>\n",
       "      <th>party</th>\n",
       "    </tr>\n",
       "  </thead>\n",
       "  <tbody>\n",
       "    <tr>\n",
       "      <th>0</th>\n",
       "      <td>2019-03-28 09:38:37</td>\n",
       "      <td>0</td>\n",
       "      <td>banka</td>\n",
       "      <td>sudhanshu kumar das</td>\n",
       "      <td>0</td>\n",
       "      <td>RT @theskindoctor13: @ANI Shatrughan Sinha ke ...</td>\n",
       "      <td>ANI Shatrughan Sinha ke Congress me aane se ji...</td>\n",
       "      <td>5c9c96235c284c72c0f92f17</td>\n",
       "      <td>1111200911781564416</td>\n",
       "      <td>bjp</td>\n",
       "    </tr>\n",
       "    <tr>\n",
       "      <th>1</th>\n",
       "      <td>2019-03-28 09:38:37</td>\n",
       "      <td>0</td>\n",
       "      <td>Lucknow, India</td>\n",
       "      <td>Ayush Sfi</td>\n",
       "      <td>0</td>\n",
       "      <td>RT @YsakMv: CPI(M) Manifesto  2019 Release.  M...</td>\n",
       "      <td>CPI M Manifesto 2019 Release Main Slogans Defe...</td>\n",
       "      <td>5c9c96245c284c72c0f92f18</td>\n",
       "      <td>1111200912255537152</td>\n",
       "      <td>bjp</td>\n",
       "    </tr>\n",
       "    <tr>\n",
       "      <th>2</th>\n",
       "      <td>2019-03-28 09:38:37</td>\n",
       "      <td>0</td>\n",
       "      <td>New Delhi, India</td>\n",
       "      <td>godi_media</td>\n",
       "      <td>0</td>\n",
       "      <td>RT @AisiTaisiDemo: Kuchh bhi mat bolo @abhisar...</td>\n",
       "      <td>Kuchh bhi mat bolo abhisar sharma Uss akhbaar ...</td>\n",
       "      <td>5c9c96255c284c72c0f92f19</td>\n",
       "      <td>1111200913014820864</td>\n",
       "      <td>bjp</td>\n",
       "    </tr>\n",
       "    <tr>\n",
       "      <th>3</th>\n",
       "      <td>2019-03-28 09:38:38</td>\n",
       "      <td>0</td>\n",
       "      <td>अंतरिक्ष - स्वर्ग में😍</td>\n",
       "      <td>ॐ प्रियाशा चतुर्वेदी🇮🇳</td>\n",
       "      <td>0</td>\n",
       "      <td>RT @__kashyap__: #JayaPrada joins BJP. So BJP'...</td>\n",
       "      <td>#JayaPrada joins BJP So BJP s slogan is comple...</td>\n",
       "      <td>5c9c96265c284c72c0f92f1a</td>\n",
       "      <td>1111200915862614016</td>\n",
       "      <td>bjp</td>\n",
       "    </tr>\n",
       "    <tr>\n",
       "      <th>4</th>\n",
       "      <td>2019-03-28 09:38:38</td>\n",
       "      <td>0</td>\n",
       "      <td>None</td>\n",
       "      <td>Chowkidar SAI</td>\n",
       "      <td>0</td>\n",
       "      <td>RT @rajnathsingh: Had a wonderful interaction ...</td>\n",
       "      <td>Had a wonderful interaction with BJP activists...</td>\n",
       "      <td>5c9c96275c284c72c0f92f1b</td>\n",
       "      <td>1111200916655341568</td>\n",
       "      <td>bjp</td>\n",
       "    </tr>\n",
       "  </tbody>\n",
       "</table>\n",
       "</div>"
      ],
      "text/plain": [
       "           Created At  Likes                Location                    Name  \\\n",
       "0 2019-03-28 09:38:37      0                   banka     sudhanshu kumar das   \n",
       "1 2019-03-28 09:38:37      0          Lucknow, India               Ayush Sfi   \n",
       "2 2019-03-28 09:38:37      0        New Delhi, India              godi_media   \n",
       "3 2019-03-28 09:38:38      0  अंतरिक्ष - स्वर्ग में😍  ॐ प्रियाशा चतुर्वेदी🇮🇳   \n",
       "4 2019-03-28 09:38:38      0                    None           Chowkidar SAI   \n",
       "\n",
       "   Retweet                                              Tweet  \\\n",
       "0        0  RT @theskindoctor13: @ANI Shatrughan Sinha ke ...   \n",
       "1        0  RT @YsakMv: CPI(M) Manifesto  2019 Release.  M...   \n",
       "2        0  RT @AisiTaisiDemo: Kuchh bhi mat bolo @abhisar...   \n",
       "3        0  RT @__kashyap__: #JayaPrada joins BJP. So BJP'...   \n",
       "4        0  RT @rajnathsingh: Had a wonderful interaction ...   \n",
       "\n",
       "                                       Tweet_cleaned  \\\n",
       "0  ANI Shatrughan Sinha ke Congress me aane se ji...   \n",
       "1  CPI M Manifesto 2019 Release Main Slogans Defe...   \n",
       "2  Kuchh bhi mat bolo abhisar sharma Uss akhbaar ...   \n",
       "3  #JayaPrada joins BJP So BJP s slogan is comple...   \n",
       "4  Had a wonderful interaction with BJP activists...   \n",
       "\n",
       "                        _id                   id party  \n",
       "0  5c9c96235c284c72c0f92f17  1111200911781564416   bjp  \n",
       "1  5c9c96245c284c72c0f92f18  1111200912255537152   bjp  \n",
       "2  5c9c96255c284c72c0f92f19  1111200913014820864   bjp  \n",
       "3  5c9c96265c284c72c0f92f1a  1111200915862614016   bjp  \n",
       "4  5c9c96275c284c72c0f92f1b  1111200916655341568   bjp  "
      ]
     },
     "execution_count": 9,
     "metadata": {},
     "output_type": "execute_result"
    }
   ],
   "source": [
    "df_bjp_clean_tweets.head()"
   ]
  },
  {
   "cell_type": "markdown",
   "metadata": {
    "collapsed": true
   },
   "source": [
    "### We will separate and collect the hastags as well in a different column. We are not sure yet how to use it but it might help later on"
   ]
  },
  {
   "cell_type": "code",
   "execution_count": 10,
   "metadata": {
    "collapsed": false
   },
   "outputs": [],
   "source": [
    "def extract_hashtags(text):\n",
    "    return re.findall(r\"#(\\w+)\", text)"
   ]
  },
  {
   "cell_type": "code",
   "execution_count": 11,
   "metadata": {
    "collapsed": false
   },
   "outputs": [
    {
     "data": {
      "text/html": [
       "<div>\n",
       "<style scoped>\n",
       "    .dataframe tbody tr th:only-of-type {\n",
       "        vertical-align: middle;\n",
       "    }\n",
       "\n",
       "    .dataframe tbody tr th {\n",
       "        vertical-align: top;\n",
       "    }\n",
       "\n",
       "    .dataframe thead th {\n",
       "        text-align: right;\n",
       "    }\n",
       "</style>\n",
       "<table border=\"1\" class=\"dataframe\">\n",
       "  <thead>\n",
       "    <tr style=\"text-align: right;\">\n",
       "      <th></th>\n",
       "      <th>Created At</th>\n",
       "      <th>Likes</th>\n",
       "      <th>Location</th>\n",
       "      <th>Name</th>\n",
       "      <th>Retweet</th>\n",
       "      <th>Tweet</th>\n",
       "      <th>Tweet_cleaned</th>\n",
       "      <th>_id</th>\n",
       "      <th>id</th>\n",
       "      <th>party</th>\n",
       "      <th>hashtags</th>\n",
       "    </tr>\n",
       "  </thead>\n",
       "  <tbody>\n",
       "    <tr>\n",
       "      <th>0</th>\n",
       "      <td>2019-03-28 09:38:37</td>\n",
       "      <td>0</td>\n",
       "      <td>banka</td>\n",
       "      <td>sudhanshu kumar das</td>\n",
       "      <td>0</td>\n",
       "      <td>RT @theskindoctor13: @ANI Shatrughan Sinha ke ...</td>\n",
       "      <td>ANI Shatrughan Sinha ke Congress me aane se ji...</td>\n",
       "      <td>5c9c96235c284c72c0f92f17</td>\n",
       "      <td>1111200911781564416</td>\n",
       "      <td>bjp</td>\n",
       "      <td>[]</td>\n",
       "    </tr>\n",
       "    <tr>\n",
       "      <th>1</th>\n",
       "      <td>2019-03-28 09:38:37</td>\n",
       "      <td>0</td>\n",
       "      <td>Lucknow, India</td>\n",
       "      <td>Ayush Sfi</td>\n",
       "      <td>0</td>\n",
       "      <td>RT @YsakMv: CPI(M) Manifesto  2019 Release.  M...</td>\n",
       "      <td>CPI M Manifesto 2019 Release Main Slogans Defe...</td>\n",
       "      <td>5c9c96245c284c72c0f92f18</td>\n",
       "      <td>1111200912255537152</td>\n",
       "      <td>bjp</td>\n",
       "      <td>[]</td>\n",
       "    </tr>\n",
       "    <tr>\n",
       "      <th>2</th>\n",
       "      <td>2019-03-28 09:38:37</td>\n",
       "      <td>0</td>\n",
       "      <td>New Delhi, India</td>\n",
       "      <td>godi_media</td>\n",
       "      <td>0</td>\n",
       "      <td>RT @AisiTaisiDemo: Kuchh bhi mat bolo @abhisar...</td>\n",
       "      <td>Kuchh bhi mat bolo abhisar sharma Uss akhbaar ...</td>\n",
       "      <td>5c9c96255c284c72c0f92f19</td>\n",
       "      <td>1111200913014820864</td>\n",
       "      <td>bjp</td>\n",
       "      <td>[]</td>\n",
       "    </tr>\n",
       "    <tr>\n",
       "      <th>3</th>\n",
       "      <td>2019-03-28 09:38:38</td>\n",
       "      <td>0</td>\n",
       "      <td>अंतरिक्ष - स्वर्ग में😍</td>\n",
       "      <td>ॐ प्रियाशा चतुर्वेदी🇮🇳</td>\n",
       "      <td>0</td>\n",
       "      <td>RT @__kashyap__: #JayaPrada joins BJP. So BJP'...</td>\n",
       "      <td>#JayaPrada joins BJP So BJP s slogan is comple...</td>\n",
       "      <td>5c9c96265c284c72c0f92f1a</td>\n",
       "      <td>1111200915862614016</td>\n",
       "      <td>bjp</td>\n",
       "      <td>[JayaPrada, BJPVijaySankalp, NamoAgain]</td>\n",
       "    </tr>\n",
       "    <tr>\n",
       "      <th>4</th>\n",
       "      <td>2019-03-28 09:38:38</td>\n",
       "      <td>0</td>\n",
       "      <td>None</td>\n",
       "      <td>Chowkidar SAI</td>\n",
       "      <td>0</td>\n",
       "      <td>RT @rajnathsingh: Had a wonderful interaction ...</td>\n",
       "      <td>Had a wonderful interaction with BJP activists...</td>\n",
       "      <td>5c9c96275c284c72c0f92f1b</td>\n",
       "      <td>1111200916655341568</td>\n",
       "      <td>bjp</td>\n",
       "      <td>[]</td>\n",
       "    </tr>\n",
       "  </tbody>\n",
       "</table>\n",
       "</div>"
      ],
      "text/plain": [
       "           Created At  Likes                Location                    Name  \\\n",
       "0 2019-03-28 09:38:37      0                   banka     sudhanshu kumar das   \n",
       "1 2019-03-28 09:38:37      0          Lucknow, India               Ayush Sfi   \n",
       "2 2019-03-28 09:38:37      0        New Delhi, India              godi_media   \n",
       "3 2019-03-28 09:38:38      0  अंतरिक्ष - स्वर्ग में😍  ॐ प्रियाशा चतुर्वेदी🇮🇳   \n",
       "4 2019-03-28 09:38:38      0                    None           Chowkidar SAI   \n",
       "\n",
       "   Retweet                                              Tweet  \\\n",
       "0        0  RT @theskindoctor13: @ANI Shatrughan Sinha ke ...   \n",
       "1        0  RT @YsakMv: CPI(M) Manifesto  2019 Release.  M...   \n",
       "2        0  RT @AisiTaisiDemo: Kuchh bhi mat bolo @abhisar...   \n",
       "3        0  RT @__kashyap__: #JayaPrada joins BJP. So BJP'...   \n",
       "4        0  RT @rajnathsingh: Had a wonderful interaction ...   \n",
       "\n",
       "                                       Tweet_cleaned  \\\n",
       "0  ANI Shatrughan Sinha ke Congress me aane se ji...   \n",
       "1  CPI M Manifesto 2019 Release Main Slogans Defe...   \n",
       "2  Kuchh bhi mat bolo abhisar sharma Uss akhbaar ...   \n",
       "3  #JayaPrada joins BJP So BJP s slogan is comple...   \n",
       "4  Had a wonderful interaction with BJP activists...   \n",
       "\n",
       "                        _id                   id party  \\\n",
       "0  5c9c96235c284c72c0f92f17  1111200911781564416   bjp   \n",
       "1  5c9c96245c284c72c0f92f18  1111200912255537152   bjp   \n",
       "2  5c9c96255c284c72c0f92f19  1111200913014820864   bjp   \n",
       "3  5c9c96265c284c72c0f92f1a  1111200915862614016   bjp   \n",
       "4  5c9c96275c284c72c0f92f1b  1111200916655341568   bjp   \n",
       "\n",
       "                                  hashtags  \n",
       "0                                       []  \n",
       "1                                       []  \n",
       "2                                       []  \n",
       "3  [JayaPrada, BJPVijaySankalp, NamoAgain]  \n",
       "4                                       []  "
      ]
     },
     "execution_count": 11,
     "metadata": {},
     "output_type": "execute_result"
    }
   ],
   "source": [
    "df_bjp_clean_tweets['hashtags']=df_bjp_clean_tweets['Tweet_cleaned'].apply(extract_hashtags)\n",
    "df_bjp_clean_tweets.head()"
   ]
  },
  {
   "cell_type": "code",
   "execution_count": 12,
   "metadata": {
    "collapsed": false
   },
   "outputs": [
    {
     "data": {
      "text/html": [
       "<div>\n",
       "<style scoped>\n",
       "    .dataframe tbody tr th:only-of-type {\n",
       "        vertical-align: middle;\n",
       "    }\n",
       "\n",
       "    .dataframe tbody tr th {\n",
       "        vertical-align: top;\n",
       "    }\n",
       "\n",
       "    .dataframe thead th {\n",
       "        text-align: right;\n",
       "    }\n",
       "</style>\n",
       "<table border=\"1\" class=\"dataframe\">\n",
       "  <thead>\n",
       "    <tr style=\"text-align: right;\">\n",
       "      <th></th>\n",
       "      <th>Created At</th>\n",
       "      <th>Likes</th>\n",
       "      <th>Location</th>\n",
       "      <th>Name</th>\n",
       "      <th>Retweet</th>\n",
       "      <th>Tweet</th>\n",
       "      <th>Tweet_cleaned</th>\n",
       "      <th>_id</th>\n",
       "      <th>id</th>\n",
       "      <th>party</th>\n",
       "      <th>hashtags</th>\n",
       "    </tr>\n",
       "  </thead>\n",
       "  <tbody>\n",
       "    <tr>\n",
       "      <th>0</th>\n",
       "      <td>2019-03-28 09:36:57</td>\n",
       "      <td>0</td>\n",
       "      <td>Maharashtra, India</td>\n",
       "      <td>चौकीदार - वंदना</td>\n",
       "      <td>0</td>\n",
       "      <td>RT @aajtak: संजय सिंह ने राहुल गांधी से पूछा स...</td>\n",
       "      <td>Sanjay Singh asked Rahul Gandhi questions</td>\n",
       "      <td>5c9c95bf5c284c7a04966b96</td>\n",
       "      <td>1111200491860418561</td>\n",
       "      <td>congress</td>\n",
       "      <td>[]</td>\n",
       "    </tr>\n",
       "    <tr>\n",
       "      <th>1</th>\n",
       "      <td>2019-03-28 09:36:57</td>\n",
       "      <td>0</td>\n",
       "      <td>Hindustan</td>\n",
       "      <td>Vedzee97</td>\n",
       "      <td>0</td>\n",
       "      <td>RT @ss_suryawanshi: .@INCMaharashtra alleged,....</td>\n",
       "      <td>INCMaharashtra charged one more Chaukidar in D...</td>\n",
       "      <td>5c9c95c05c284c7a04966b97</td>\n",
       "      <td>1111200492586262533</td>\n",
       "      <td>congress</td>\n",
       "      <td>[]</td>\n",
       "    </tr>\n",
       "    <tr>\n",
       "      <th>2</th>\n",
       "      <td>2019-03-28 09:36:57</td>\n",
       "      <td>0</td>\n",
       "      <td>None</td>\n",
       "      <td>Shalmon thombare चौकीदार चोर है..</td>\n",
       "      <td>0</td>\n",
       "      <td>RT @mataonline: काँग्रेसची 'न्याय' योजना क्रां...</td>\n",
       "      <td>Congress justice plan revolutionary Raghuram R...</td>\n",
       "      <td>5c9c95c15c284c7a04966b98</td>\n",
       "      <td>1111200492644790272</td>\n",
       "      <td>congress</td>\n",
       "      <td>[RaguramRajan]</td>\n",
       "    </tr>\n",
       "    <tr>\n",
       "      <th>3</th>\n",
       "      <td>2019-03-28 09:36:57</td>\n",
       "      <td>0</td>\n",
       "      <td>Vellore, Tamil Nadu, India</td>\n",
       "      <td>chowkidar esan a venkat</td>\n",
       "      <td>0</td>\n",
       "      <td>@somitmakar @NationJai @JhaSanjay @RahulGandhi...</td>\n",
       "      <td>somitmakar NationJai JhaSanjay RahulGandhi Sha...</td>\n",
       "      <td>5c9c95c25c284c7a04966b99</td>\n",
       "      <td>1111200493106126848</td>\n",
       "      <td>congress</td>\n",
       "      <td>[]</td>\n",
       "    </tr>\n",
       "    <tr>\n",
       "      <th>4</th>\n",
       "      <td>2019-03-28 09:36:58</td>\n",
       "      <td>0</td>\n",
       "      <td>DIASPORA</td>\n",
       "      <td>AYOTUNDE</td>\n",
       "      <td>0</td>\n",
       "      <td>RT @SaharaReporters: while the incumbent gover...</td>\n",
       "      <td>while the incumbent governor Jibrilla Bindow o...</td>\n",
       "      <td>5c9c95c35c284c7a04966b9a</td>\n",
       "      <td>1111200496063340544</td>\n",
       "      <td>congress</td>\n",
       "      <td>[Ad]</td>\n",
       "    </tr>\n",
       "  </tbody>\n",
       "</table>\n",
       "</div>"
      ],
      "text/plain": [
       "           Created At  Likes                    Location  \\\n",
       "0 2019-03-28 09:36:57      0          Maharashtra, India   \n",
       "1 2019-03-28 09:36:57      0                   Hindustan   \n",
       "2 2019-03-28 09:36:57      0                        None   \n",
       "3 2019-03-28 09:36:57      0  Vellore, Tamil Nadu, India   \n",
       "4 2019-03-28 09:36:58      0                    DIASPORA   \n",
       "\n",
       "                                Name  Retweet  \\\n",
       "0                    चौकीदार - वंदना        0   \n",
       "1                           Vedzee97        0   \n",
       "2  Shalmon thombare चौकीदार चोर है..        0   \n",
       "3            chowkidar esan a venkat        0   \n",
       "4                           AYOTUNDE        0   \n",
       "\n",
       "                                               Tweet  \\\n",
       "0  RT @aajtak: संजय सिंह ने राहुल गांधी से पूछा स...   \n",
       "1  RT @ss_suryawanshi: .@INCMaharashtra alleged,....   \n",
       "2  RT @mataonline: काँग्रेसची 'न्याय' योजना क्रां...   \n",
       "3  @somitmakar @NationJai @JhaSanjay @RahulGandhi...   \n",
       "4  RT @SaharaReporters: while the incumbent gover...   \n",
       "\n",
       "                                       Tweet_cleaned  \\\n",
       "0          Sanjay Singh asked Rahul Gandhi questions   \n",
       "1  INCMaharashtra charged one more Chaukidar in D...   \n",
       "2  Congress justice plan revolutionary Raghuram R...   \n",
       "3  somitmakar NationJai JhaSanjay RahulGandhi Sha...   \n",
       "4  while the incumbent governor Jibrilla Bindow o...   \n",
       "\n",
       "                        _id                   id     party        hashtags  \n",
       "0  5c9c95bf5c284c7a04966b96  1111200491860418561  congress              []  \n",
       "1  5c9c95c05c284c7a04966b97  1111200492586262533  congress              []  \n",
       "2  5c9c95c15c284c7a04966b98  1111200492644790272  congress  [RaguramRajan]  \n",
       "3  5c9c95c25c284c7a04966b99  1111200493106126848  congress              []  \n",
       "4  5c9c95c35c284c7a04966b9a  1111200496063340544  congress            [Ad]  "
      ]
     },
     "execution_count": 12,
     "metadata": {},
     "output_type": "execute_result"
    }
   ],
   "source": [
    "df_congress_clean_tweets['hashtags']=df_congress_clean_tweets['Tweet_cleaned'].apply(extract_hashtags)\n",
    "df_congress_clean_tweets.head()"
   ]
  },
  {
   "cell_type": "markdown",
   "metadata": {},
   "source": [
    "## Let's define a function to collect all the hashtags for individual party related tweets"
   ]
  },
  {
   "cell_type": "code",
   "execution_count": 13,
   "metadata": {
    "collapsed": true
   },
   "outputs": [],
   "source": [
    "def get_hashtags_list(column,dataframe):\n",
    "    #First we will collect hashtags to a list. Then, will join the individual rows containing multiple hashtags by a space\n",
    "    hashtags=dataframe[column].apply(lambda x:' '.join(x))\n",
    "    #we will be removing all rows which are empty from the list\n",
    "    list_hashtags=[x for x in hashtags if x!='']\n",
    "    #Now we have a list of multiple hashtags scattered accross different rows\n",
    "    hashtags_single=' '.join(list_hashtags)\n",
    "    #We have rejoined those rows and splitted them in order to collect each hashtags separately\n",
    "    hashtags_single_list=hashtags_single.split(' ')\n",
    "    return hashtags_single_list"
   ]
  },
  {
   "cell_type": "markdown",
   "metadata": {},
   "source": [
    "### Let's see the top 10 trending hashtags for BJP related tweets"
   ]
  },
  {
   "cell_type": "code",
   "execution_count": 14,
   "metadata": {
    "collapsed": false
   },
   "outputs": [
    {
     "data": {
      "image/png": "[encoded data removed]",
      "text/plain": [
       "<Figure size 1080x432 with 1 Axes>"
      ]
     },
     "metadata": {},
     "output_type": "display_data"
    }
   ],
   "source": [
    "plt.figure(figsize=(15,6))\n",
    "list_bjp_hashtags=get_hashtags_list('hashtags',df_bjp_clean_tweets)\n",
    "#list_bjp_hashtags\n",
    "df_bjp_tags=pd.DataFrame(list_bjp_hashtags)\n",
    "df_bjp_tags.head()\n",
    "sns.countplot(y = 0,\n",
    "              data = df_bjp_tags,\n",
    "              order = df_bjp_tags[0].value_counts().iloc[:10].index,\n",
    "              edgecolor=sns.color_palette(\"dark\", 3))\n",
    "plt.show()"
   ]
  },
  {
   "cell_type": "markdown",
   "metadata": {},
   "source": [
    "# Let's see the top 10 trending hashtags for Congress related tweets"
   ]
  },
  {
   "cell_type": "code",
   "execution_count": 15,
   "metadata": {
    "collapsed": false
   },
   "outputs": [
    {
     "data": {
      "image/png": "[encoded data removed]",
      "text/plain": [
       "<Figure size 1080x432 with 1 Axes>"
      ]
     },
     "metadata": {},
     "output_type": "display_data"
    }
   ],
   "source": [
    "list_congress_hashtags=get_hashtags_list('hashtags',df_congress_clean_tweets)\n",
    "list_congress_hashtags\n",
    "df_congress_tags=pd.DataFrame(list_congress_hashtags)\n",
    "df_congress_tags.head()\n",
    "\n",
    "#Plot the graph\n",
    "plt.figure(figsize=(15,6))\n",
    "sns.countplot(y = 0,\n",
    "              data = df_congress_tags,\n",
    "              order = df_congress_tags[0].value_counts().iloc[:10].index,\n",
    "              edgecolor=sns.color_palette(\"dark\", 3))\n",
    "plt.show()"
   ]
  },
  {
   "cell_type": "markdown",
   "metadata": {},
   "source": [
    "### Let's see from where most of the tweets come for each party"
   ]
  },
  {
   "cell_type": "code",
   "execution_count": 16,
   "metadata": {
    "collapsed": false
   },
   "outputs": [
    {
     "data": {
      "image/png": "[encoded data removed]",
      "text/plain": [
       "<Figure size 1080x432 with 1 Axes>"
      ]
     },
     "metadata": {},
     "output_type": "display_data"
    }
   ],
   "source": [
    "#Plot the graph\n",
    "plt.figure(figsize=(15,6))\n",
    "sns.countplot(y = df_bjp_clean_tweets['Location'],\n",
    "              data = df_bjp_clean_tweets,\n",
    "              order = df_bjp_clean_tweets['Location'].value_counts().iloc[:10].index,\n",
    "              edgecolor=sns.color_palette(\"dark\", 3)).set_title('Location for BJP Tweets')\n",
    "plt.show()\n",
    "#df_bjp_clean_tweets['Location'].value_counts()"
   ]
  },
  {
   "cell_type": "code",
   "execution_count": 17,
   "metadata": {
    "collapsed": false
   },
   "outputs": [
    {
     "data": {
      "image/png": "[encoded data removed]",
      "text/plain": [
       "<Figure size 1080x432 with 1 Axes>"
      ]
     },
     "metadata": {},
     "output_type": "display_data"
    }
   ],
   "source": [
    "#Plot the graph\n",
    "plt.figure(figsize=(15,6))\n",
    "sns.countplot(y = df_congress_clean_tweets['Location'],\n",
    "              data = df_congress_clean_tweets,\n",
    "              order = df_congress_clean_tweets['Location'].value_counts().iloc[:10].index,\n",
    "              edgecolor=sns.color_palette(\"dark\", 3)).set_title('Location for Congress Tweets')\n",
    "plt.show()\n",
    "#df_bjp_clean_tweets['Location'].value_counts()"
   ]
  },
  {
   "cell_type": "markdown",
   "metadata": {},
   "source": [
    "### We've all seen the frequent typos in tweets.. To make sure our model doesn't learn on typo words, we should correct them using the TextBlob..\n",
    "\n",
    "#### However, since in India, there are lot of common Hindi phrases used to describe the parties and their leaders.. If we force correct the data, we might lose that valuable information . Hence we won't use it for now"
   ]
  },
  {
   "cell_type": "raw",
   "metadata": {},
   "source": [
    "from textblob import TextBlob\n",
    "df_bjp_clean_tweets['Tweet_cleaned'][0:5].apply(lambda x: str(TextBlob(x).correct()))\n",
    "#df_bjp_clean_tweets['Tweet_cleaned']"
   ]
  },
  {
   "cell_type": "code",
   "execution_count": 38,
   "metadata": {
    "collapsed": true
   },
   "outputs": [],
   "source": [
    "df_bjp_clean_tweets.to_csv('BJP_Clean_Tweets.csv')\n",
    "df_congress_clean_tweets.to_csv('Congress_Clean_Tweets.csv')"
   ]
  }
 ],
 "metadata": {
  "kernelspec": {
   "display_name": "Python [conda root]",
   "language": "python",
   "name": "conda-root-py"
  },
  "language_info": {
   "codemirror_mode": {
    "name": "ipython",
    "version": 3
   },
   "file_extension": ".py",
   "mimetype": "text/x-python",
   "name": "python",
   "nbconvert_exporter": "python",
   "pygments_lexer": "ipython3",
   "version": "3.5.5"
  }
 },
 "nbformat": 4,
 "nbformat_minor": 1
}
