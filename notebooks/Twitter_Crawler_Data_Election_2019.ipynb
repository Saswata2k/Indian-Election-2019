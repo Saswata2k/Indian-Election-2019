{
 "cells": [
  {
   "cell_type": "markdown",
   "metadata": {},
   "source": [
    "## First we will be importing necessary libraries.\n",
    "### We are gonna use two different auth creds for two different streams."
   ]
  },
  {
   "cell_type": "code",
   "execution_count": 1,
   "metadata": {
    "collapsed": true
   },
   "outputs": [],
   "source": [
    "import tweepy\n",
    "import pandas as pd\n",
    "import numpy as np\n",
    "import time\n",
    "from pymongo import MongoClient\n",
    "congress_consumer_key='kPyF4CA4hrCoJ2LQdnOkMkb8G'\n",
    "congress_consumer_secret='Fd91BZojt6HGx0hwn6oWwiPW6HmNuTf6e5mHlVY12uOnEhK75N'\n",
    "congress_oauth_token='235498901-w8ZwpAFsHjXrT31KVjJKCcAFQhICfgPhLKrilLgS'\n",
    "congress_oauth_token_secret='pgAMQX6feh2VXM7VR6pjFipWgQuTQ9uv5cQOVtKee23Sd'\n",
    "\n",
    "bjp_consumer_key='ZkMdJtOpKzW7QW2orY4Di0hBe'\n",
    "bjp_consumer_secret='S09VL1T6PQ7XTHORLpzi8z7KBRLaOZVwzPQnf4sallDwELRYJx'\n",
    "bjp_oauth_token='235498901-QokbTGAFV7IMbSNKufOu0C9jRlNTIRtcTy02kxYf'\n",
    "bjp_oauth_token_secret='SsqRDpEIbbMNYFZpL39QFbdO379xC61Eq5qNgceubE7lp'"
   ]
  },
  {
   "cell_type": "code",
   "execution_count": 2,
   "metadata": {
    "collapsed": true
   },
   "outputs": [],
   "source": [
    "def tweepy_congress_setup():\n",
    "    auth = tweepy.OAuthHandler(congress_consumer_key, congress_consumer_secret)\n",
    "    auth.set_access_token(congress_oauth_token, congress_oauth_token_secret)\n",
    "    api=tweepy.API(auth)\n",
    "    return api"
   ]
  },
  {
   "cell_type": "code",
   "execution_count": 3,
   "metadata": {
    "collapsed": true
   },
   "outputs": [],
   "source": [
    "def tweepy_bjp_setup():\n",
    "    auth = tweepy.OAuthHandler(bjp_consumer_key, bjp_consumer_secret)\n",
    "    auth.set_access_token(bjp_oauth_token, bjp_oauth_token_secret)\n",
    "    api=tweepy.API(auth)\n",
    "    return api"
   ]
  },
  {
   "cell_type": "markdown",
   "metadata": {},
   "source": [
    "## Set up Mongo"
   ]
  },
  {
   "cell_type": "code",
   "execution_count": 4,
   "metadata": {
    "collapsed": true
   },
   "outputs": [],
   "source": [
    "MONGO_HOST = 'localhost'\n",
    "MONGO_PORT = 27017\n",
    "DATABASE_NAME='Portfolio'"
   ]
  },
  {
   "cell_type": "code",
   "execution_count": 5,
   "metadata": {
    "collapsed": false
   },
   "outputs": [
    {
     "data": {
      "text/plain": [
       "Collection(Database(MongoClient(host=['localhost:27017'], document_class=dict, tz_aware=False, connect=True, unicode_decode_error_handler='ignore'), 'Portfolio'), 'Election_Congress')"
      ]
     },
     "execution_count": 5,
     "metadata": {},
     "output_type": "execute_result"
    }
   ],
   "source": [
    "client = MongoClient(host=MONGO_HOST,port=MONGO_PORT,unicode_decode_error_handler='ignore')\n",
    "db_congress = client[DATABASE_NAME]\n",
    "congress_collection_name = \"Election_Congress\"\n",
    "congress_collection=db_congress[congress_collection_name]\n",
    "congress_collection"
   ]
  },
  {
   "cell_type": "code",
   "execution_count": 6,
   "metadata": {
    "collapsed": false
   },
   "outputs": [
    {
     "data": {
      "text/plain": [
       "Collection(Database(MongoClient(host=['localhost:27017'], document_class=dict, tz_aware=False, connect=True, unicode_decode_error_handler='ignore'), 'Portfolio'), 'Election_BJP')"
      ]
     },
     "execution_count": 6,
     "metadata": {},
     "output_type": "execute_result"
    }
   ],
   "source": [
    "db_bjp = client[DATABASE_NAME]\n",
    "bjp_collection_name = \"Election_BJP\"\n",
    "bjp_collection=db_bjp[bjp_collection_name]\n",
    "bjp_collection"
   ]
  },
  {
   "cell_type": "markdown",
   "metadata": {},
   "source": [
    "#  Create a function to start the live stream and save to Mongo"
   ]
  },
  {
   "cell_type": "code",
   "execution_count": 7,
   "metadata": {
    "collapsed": false,
    "scrolled": true
   },
   "outputs": [],
   "source": [
    "###TODO : Extract and save the tweet ID as well since it helps remove duplicates\n",
    "\n",
    "#override tweepy.StreamListener to add logic to on_status\n",
    "class CongressStreamListener(tweepy.StreamListener):\n",
    "    count=0\n",
    "    def on_status(self, status):\n",
    "        #time.sleep(1)\n",
    "        #response_body=status\n",
    "        location=status.user.location\n",
    "        name=status.user.name\n",
    "        id_tweet=status.id_str\n",
    "        truncated=status.truncated\n",
    "        tweet=status.text\n",
    "        created_at=status.created_at\n",
    "        \n",
    "        if truncated:\n",
    "            tweet=status.extended_tweet['full_text']\n",
    "            \n",
    "        record={\"id\":id_tweet,\"Location\":location,\"Name\":name,\"Tweet\":tweet,\"Created At\":created_at}\n",
    "        #Insert to MongoDB\n",
    "        congress_collection.insert_one(record)\n",
    "        #count+=1\n",
    "        #if count==500:\n",
    "        #    print(record)\n",
    "    def on_timeout(self):\n",
    "        print ('Timeout...')\n",
    "        return True \n",
    "    def on_error(self, status):\n",
    "        print(status)\n",
    "        if status_code == 420:\n",
    "           #returning False in on_data disconnects the stream\n",
    "           return False"
   ]
  },
  {
   "cell_type": "code",
   "execution_count": 8,
   "metadata": {
    "collapsed": true
   },
   "outputs": [],
   "source": [
    "###TODO : Extract and save the tweet ID as well since it helps remove duplicates\n",
    "\n",
    "#override tweepy.StreamListener to add logic to on_status\n",
    "class BJPStreamListener(tweepy.StreamListener):\n",
    "    count=0\n",
    "    def on_status(self, status):\n",
    "        #time.sleep(1)\n",
    "        #response_body=status\n",
    "        location=status.user.location\n",
    "        name=status.user.name\n",
    "        id_tweet=status.id_str\n",
    "        truncated=status.truncated\n",
    "        tweet=status.text\n",
    "        created_at=status.created_at\n",
    "        \n",
    "        if truncated:\n",
    "            tweet=status.extended_tweet['full_text']\n",
    "            \n",
    "        record={\"id\":id_tweet,\"Location\":location,\"Name\":name,\"Tweet\":tweet,\"Created At\":created_at}\n",
    "        #Insert to MongoDB\n",
    "        bjp_collection.insert_one(record)\n",
    "        #count+=1\n",
    "        #if count==500:\n",
    "        #    print(record)\n",
    "    def on_timeout(self):\n",
    "        print ('Timeout...')\n",
    "        return True \n",
    "    def on_error(self, status):\n",
    "        print(status)\n",
    "        if status_code == 420:\n",
    "           #returning False in on_data disconnects the stream\n",
    "           return False"
   ]
  },
  {
   "cell_type": "code",
   "execution_count": 9,
   "metadata": {
    "collapsed": false
   },
   "outputs": [],
   "source": [
    "#Get API\n",
    "extractor_bjp=tweepy_bjp_setup()\n",
    "extractor_congress=tweepy_congress_setup()"
   ]
  },
  {
   "cell_type": "code",
   "execution_count": 10,
   "metadata": {
    "collapsed": false
   },
   "outputs": [],
   "source": [
    "congressStreamListener = CongressStreamListener()\n",
    "congressStream = tweepy.Stream(auth = extractor_congress.auth, listener=congressStreamListener)"
   ]
  },
  {
   "cell_type": "code",
   "execution_count": 11,
   "metadata": {
    "collapsed": true
   },
   "outputs": [],
   "source": [
    "bjpStreamListener = BJPStreamListener()\n",
    "bjpStream = tweepy.Stream(auth = extractor_bjp.auth, listener=bjpStreamListener)"
   ]
  },
  {
   "cell_type": "markdown",
   "metadata": {},
   "source": [
    "# Start the streaming"
   ]
  },
  {
   "cell_type": "markdown",
   "metadata": {},
   "source": [
    "### Since we were getting Protocol exception and frequent disconnections on the streaming, we decided to force the stream to continue even if an exception is thrown"
   ]
  },
  {
   "cell_type": "code",
   "execution_count": null,
   "metadata": {
    "collapsed": false
   },
   "outputs": [
    {
     "name": "stdout",
     "output_type": "stream",
     "text": [
      "Streaming tweets to Mongo..\n"
     ]
    }
   ],
   "source": [
    "congressStream.disconnect()\n",
    "from urllib3.exceptions import ProtocolError\n",
    "while True:\n",
    "    try:\n",
    "        print('Streaming tweets to Mongo..')\n",
    "        #Twitter convention : separate multiple keywords by space for 'and' and comma for 'or' condition\n",
    "        congressStream.filter(track=['INCIndia'])\n",
    "        #bjpStream.filter(track=['bjp'])\n",
    "    except (ProtocolError, AttributeError):\n",
    "        continue"
   ]
  },
  {
   "cell_type": "code",
   "execution_count": null,
   "metadata": {
    "collapsed": false
   },
   "outputs": [],
   "source": [
    "congressStream.disconnect()\n",
    "bjpStream.disconnect()"
   ]
  },
  {
   "cell_type": "code",
   "execution_count": null,
   "metadata": {
    "collapsed": true
   },
   "outputs": [],
   "source": []
  }
 ],
 "metadata": {
  "anaconda-cloud": {},
  "kernelspec": {
   "display_name": "Python [default]",
   "language": "python",
   "name": "python3"
  },
  "language_info": {
   "codemirror_mode": {
    "name": "ipython",
    "version": 3
   },
   "file_extension": ".py",
   "mimetype": "text/x-python",
   "name": "python",
   "nbconvert_exporter": "python",
   "pygments_lexer": "ipython3",
   "version": "3.5.5"
  }
 },
 "nbformat": 4,
 "nbformat_minor": 1
}
