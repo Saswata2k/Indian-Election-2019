{
 "cells": [
  {
   "cell_type": "code",
   "execution_count": 5,
   "metadata": {
    "collapsed": true
   },
   "outputs": [],
   "source": [
    "import tweepy\n",
    "import pandas as pd\n",
    "import numpy as np\n",
    "import time\n",
    "from pymongo import MongoClient\n",
    "consumer_key='yPfcPuEKu2KVj8Apzkg0OZ1cP'\n",
    "consumer_secret='dPvOMovmxY8d7YFayhT19cf0djEqs9V9hSo6P7UspzWKBQbAqp'\n",
    "oauth_token='235498901-QqWA4AGK1Camx1epgr2LOJSZBFEpS4tHP2Kxs4B2'\n",
    "oauth_token_secret='yxLdAZ19XDHfQRU4B1Z3wjRmOS9vtHCfJBFYY2ajagojm'"
   ]
  },
  {
   "cell_type": "code",
   "execution_count": 2,
   "metadata": {
    "collapsed": true
   },
   "outputs": [],
   "source": [
    "def tweepy_setup():\n",
    "    auth = tweepy.OAuthHandler(consumer_key, consumer_secret)\n",
    "    auth.set_access_token(oauth_token, oauth_token_secret)\n",
    "    api=tweepy.API(auth)\n",
    "    return api"
   ]
  },
  {
   "cell_type": "markdown",
   "metadata": {},
   "source": [
    "## Set up Mongo"
   ]
  },
  {
   "cell_type": "code",
   "execution_count": 3,
   "metadata": {
    "collapsed": true
   },
   "outputs": [],
   "source": [
    "MONGO_HOST = 'localhost'\n",
    "MONGO_PORT = 27017\n",
    "DATABASE_NAME='Portfolio'"
   ]
  },
  {
   "cell_type": "code",
   "execution_count": 4,
   "metadata": {
    "collapsed": false
   },
   "outputs": [
    {
     "data": {
      "text/plain": [
       "Collection(Database(MongoClient(host=['localhost:27017'], document_class=dict, tz_aware=False, connect=True, unicode_decode_error_handler='ignore'), 'Portfolio'), 'Election_2019')"
      ]
     },
     "execution_count": 4,
     "metadata": {},
     "output_type": "execute_result"
    }
   ],
   "source": [
    "client_prod = MongoClient(host=MONGO_HOST,port=MONGO_PORT,unicode_decode_error_handler='ignore')\n",
    "db_prod = client_prod[DATABASE_NAME]\n",
    "collection_name = \"Election_2019\"\n",
    "collection=db_prod[collection_name]\n",
    "collection"
   ]
  },
  {
   "cell_type": "markdown",
   "metadata": {},
   "source": [
    "#  Create a function to start the live stream and save to Mongo"
   ]
  },
  {
   "cell_type": "code",
   "execution_count": 15,
   "metadata": {
    "collapsed": false,
    "scrolled": true
   },
   "outputs": [],
   "source": [
    "#Create API object\n",
    "extractor=tweepy_setup()\n",
    "#override tweepy.StreamListener to add logic to on_status\n",
    "class MyStreamListener(tweepy.StreamListener):\n",
    "    def on_status(self, status):\n",
    "        time.sleep(2)\n",
    "        #response_body=status\n",
    "        likes=status.favorite_count\n",
    "        retweet=status.retweet_count\n",
    "        location=status.user.location\n",
    "        name=status.user.name\n",
    "        truncated=status.truncated\n",
    "        tweet=status.text\n",
    "        created_at=status.created_at\n",
    "        if truncated:\n",
    "            tweet=status.extended_tweet['full_text']\n",
    "            #print(tweet)\n",
    "        record={\"Likes\":likes,\"Retweet\":retweet,\"Location\":location,\"Name\":name,\"Tweet\":tweet,\"Created At\":created_at}\n",
    "        #Insert to MongoDB\n",
    "        collection.insert_one(record)\n",
    "    def on_timeout(self):\n",
    "        print ('Timeout...')\n",
    "        return True \n",
    "    def on_error(self, status):\n",
    "        print(status)\n",
    "        if status_code == 420:\n",
    "           #returning False in on_data disconnects the stream\n",
    "           return False"
   ]
  },
  {
   "cell_type": "code",
   "execution_count": 16,
   "metadata": {
    "collapsed": false
   },
   "outputs": [],
   "source": [
    "myStreamListener = MyStreamListener()\n",
    "myStream = tweepy.Stream(auth = extractor.auth, listener=myStreamListener)"
   ]
  },
  {
   "cell_type": "raw",
   "metadata": {
    "collapsed": false
   },
   "source": [
    "myStream.filter(track=['election2019'])\n",
    "myStream.disconnect()"
   ]
  },
  {
   "cell_type": "markdown",
   "metadata": {},
   "source": [
    "# Start the streaming"
   ]
  },
  {
   "cell_type": "code",
   "execution_count": null,
   "metadata": {
    "collapsed": false
   },
   "outputs": [],
   "source": [
    "myStream.filter(track=['election2019'])"
   ]
  },
  {
   "cell_type": "code",
   "execution_count": 21,
   "metadata": {
    "collapsed": false
   },
   "outputs": [],
   "source": [
    "myStream.disconnect()"
   ]
  },
  {
   "cell_type": "code",
   "execution_count": null,
   "metadata": {
    "collapsed": true
   },
   "outputs": [],
   "source": []
  }
 ],
 "metadata": {
  "anaconda-cloud": {},
  "kernelspec": {
   "display_name": "Python [default]",
   "language": "python",
   "name": "python3"
  },
  "language_info": {
   "codemirror_mode": {
    "name": "ipython",
    "version": 3
   },
   "file_extension": ".py",
   "mimetype": "text/x-python",
   "name": "python",
   "nbconvert_exporter": "python",
   "pygments_lexer": "ipython3",
   "version": "3.5.5"
  }
 },
 "nbformat": 4,
 "nbformat_minor": 1
}
